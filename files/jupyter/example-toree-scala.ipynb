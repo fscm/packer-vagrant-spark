{
 "cells": [
  {
   "cell_type": "markdown",
   "metadata": {},
   "source": [
    "# **Scala Example**\n",
    "\n",
    "This notebook will show you how to use **Apache Spark** with **Scala** to perform a simple word count.\n",
    "\n",
    "You can run a cell by pressing **\"shift-enter\"**, which will compute the current cell and advance to the next cell, or by clicking in a cell and pressing **\"control-enter\"**, which will compute the current cell and remain in that cell.\n",
    "\n",
    "** This notebook covers: **\n",
    "* *Part 1:* Required Libraries\n",
    "* *Part 2:* Spark Context\n",
    "* *Part 3:* Word Count\n"
   ]
  },
  {
   "cell_type": "markdown",
   "metadata": {},
   "source": [
    "## Import Required Libraries\n",
    "\n",
    "This section shows how to import the required libraries.\n",
    "\n",
    "Extra libraries can also be imported from maven repositories. See the comment bellow or the kernel [FAQ](https://toree.incubator.apache.org/documentation/user/faq.html) to know more."
   ]
  },
  {
   "cell_type": "code",
   "execution_count": null,
   "metadata": {},
   "outputs": [],
   "source": [
    "// If the jars needed were not on the Worker classpath they could be added\n",
    "// using the following code:\n",
    "\n",
    "//%AddJar http://myproject.com/myproject/my.jar"
   ]
  },
  {
   "cell_type": "markdown",
   "metadata": {},
   "source": [
    "## Spark Context\n",
    "\n",
    "Apache Toree creates a SparkContext when the kernel starts. You can access the context through the **sc** variable."
   ]
  },
  {
   "cell_type": "markdown",
   "metadata": {},
   "source": [
    "## Word Count\n",
    "\n",
    "This section shows the Word Counter application."
   ]
  },
  {
   "cell_type": "code",
   "execution_count": null,
   "metadata": {},
   "outputs": [],
   "source": [
    "// load a text file\n",
    "val textFile = sc.textFile(\"/srv/spark/LICENSE\")"
   ]
  },
  {
   "cell_type": "code",
   "execution_count": null,
   "metadata": {},
   "outputs": [],
   "source": [
    "// count the times each word appears on the file\n",
    "val counts = textFile.flatMap(line => line.split(\" \")).\n",
    "                 map(word => (word, 1)).\n",
    "                 reduceByKey(_ + _)"
   ]
  },
  {
   "cell_type": "code",
   "execution_count": null,
   "metadata": {},
   "outputs": [],
   "source": [
    "// top 15 words\n",
    "counts.takeOrdered(15)(Ordering[Int].reverse.on(x=>x._2))"
   ]
  },
  {
   "cell_type": "markdown",
   "metadata": {},
   "source": [
    "*notebook writen by [fscm](https://github.com/fscm)*"
   ]
  }
 ],
 "metadata": {
  "kernelspec": {
   "display_name": "Toree - Scala",
   "language": "scala",
   "name": "_scala"
  },
  "language_info": {
   "file_extension": ".scala",
   "name": "scala",
   "version": "2.11.8"
  }
 },
 "nbformat": 4,
 "nbformat_minor": 2
}
